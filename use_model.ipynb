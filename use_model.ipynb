{
 "cells": [
  {
   "cell_type": "code",
   "execution_count": 1,
   "id": "0385c06f-a768-4833-a6ed-e471e2623e9a",
   "metadata": {
    "execution": {
     "iopub.execute_input": "2023-02-28T11:33:40.696170Z",
     "iopub.status.busy": "2023-02-28T11:33:40.695625Z",
     "iopub.status.idle": "2023-02-28T11:33:46.301636Z",
     "shell.execute_reply": "2023-02-28T11:33:46.300858Z",
     "shell.execute_reply.started": "2023-02-28T11:33:40.696136Z"
    }
   },
   "outputs": [],
   "source": [
    "import tensorflow as tf\n",
    "import numpy as np"
   ]
  },
  {
   "cell_type": "code",
   "execution_count": 2,
   "id": "bf00dab9-1600-4968-9ccd-15cf223fcaf6",
   "metadata": {
    "execution": {
     "iopub.execute_input": "2023-02-28T11:33:46.303789Z",
     "iopub.status.busy": "2023-02-28T11:33:46.303123Z",
     "iopub.status.idle": "2023-02-28T11:33:51.136971Z",
     "shell.execute_reply": "2023-02-28T11:33:51.136099Z",
     "shell.execute_reply.started": "2023-02-28T11:33:46.303763Z"
    }
   },
   "outputs": [
    {
     "name": "stderr",
     "output_type": "stream",
     "text": [
      "2023-02-28 11:33:46.428135: W tensorflow/stream_executor/platform/default/dso_loader.cc:64] Could not load dynamic library 'libcuda.so.1'; dlerror: libcuda.so.1: cannot open shared object file: No such file or directory; LD_LIBRARY_PATH: /usr/local/cuda-11.6/lib64\n",
      "2023-02-28 11:33:46.428189: W tensorflow/stream_executor/cuda/cuda_driver.cc:269] failed call to cuInit: UNKNOWN ERROR (303)\n",
      "2023-02-28 11:33:46.521641: W tensorflow/core/framework/cpu_allocator_impl.cc:82] Allocation of 15859712 exceeds 10% of free system memory.\n",
      "2023-02-28 11:33:46.539775: W tensorflow/core/framework/cpu_allocator_impl.cc:82] Allocation of 15859712 exceeds 10% of free system memory.\n",
      "2023-02-28 11:33:46.595459: W tensorflow/core/framework/cpu_allocator_impl.cc:82] Allocation of 15859712 exceeds 10% of free system memory.\n",
      "2023-02-28 11:33:50.359742: W tensorflow/core/framework/cpu_allocator_impl.cc:82] Allocation of 15859712 exceeds 10% of free system memory.\n",
      "2023-02-28 11:33:50.453428: W tensorflow/core/framework/cpu_allocator_impl.cc:82] Allocation of 15859712 exceeds 10% of free system memory.\n"
     ]
    }
   ],
   "source": [
    "model = tf.keras.models.load_model('/notebooks/saved_model/model2023-02-13 04:14:10.183464', compile=False)\n",
    "# model = tf.keras.models.load_model('/notebooks/saved_model/model2023-02-16 14:43:58.031636', compile=False)\n",
    "# model = tf.keras.models.load_model('/notebooks/saved_model/model2023-02-17 01:14:42.318862', compile=False)\n"
   ]
  },
  {
   "cell_type": "code",
   "execution_count": 3,
   "id": "4701881b-217c-4c43-b13d-bfa79d3a46b5",
   "metadata": {
    "execution": {
     "iopub.execute_input": "2023-02-28T11:33:51.142442Z",
     "iopub.status.busy": "2023-02-28T11:33:51.141759Z",
     "iopub.status.idle": "2023-02-28T11:33:51.201359Z",
     "shell.execute_reply": "2023-02-28T11:33:51.200710Z",
     "shell.execute_reply.started": "2023-02-28T11:33:51.142413Z"
    }
   },
   "outputs": [],
   "source": [
    "model.compile(optimizer='adam',\n",
    "              loss=tf.keras.losses.SparseCategoricalCrossentropy(from_logits=True),\n",
    "              metrics=['accuracy'])"
   ]
  },
  {
   "cell_type": "code",
   "execution_count": 4,
   "id": "0a8d489b-35f8-42d7-b118-6f872328666b",
   "metadata": {
    "execution": {
     "iopub.execute_input": "2023-02-28T11:33:51.207058Z",
     "iopub.status.busy": "2023-02-28T11:33:51.204887Z",
     "iopub.status.idle": "2023-02-28T11:33:54.032390Z",
     "shell.execute_reply": "2023-02-28T11:33:54.031698Z",
     "shell.execute_reply.started": "2023-02-28T11:33:51.207028Z"
    }
   },
   "outputs": [
    {
     "name": "stdout",
     "output_type": "stream",
     "text": [
      "Found 6678 files belonging to 11 classes.\n",
      "['Bacterial_spot', 'Early_blight', 'Late_blight', 'Leaf_Mold', 'Septoria_leaf_spot', 'Spider_mites Two-spotted_spider_mite', 'Target_Spot', 'Tomato_Yellow_Leaf_Curl_Virus', 'Tomato_mosaic_virus', 'healthy', 'powdery_mildew']\n",
      "1/1 - 1s - loss: 0.2249 - accuracy: 0.9375 - 1s/epoch - 1s/step\n",
      "Restored model, accuracy: 93.75%\n"
     ]
    }
   ],
   "source": [
    "import pathlib\n",
    "\n",
    "val_dir = pathlib.Path('dataset/valid')\n",
    "batch_size = 32\n",
    "img_height = 180\n",
    "img_width = 180\n",
    "\n",
    "val_ds = tf.keras.utils.image_dataset_from_directory(\n",
    "  val_dir,\n",
    "  seed=123,\n",
    "  image_size=(img_height, img_width),\n",
    "  batch_size=batch_size)\n",
    "\n",
    "for images, labels in val_ds.take(1):  # only take first element of dataset\n",
    "    numpy_images = images.numpy()\n",
    "    numpy_labels = labels.numpy()\n",
    "\n",
    "class_names = val_ds.class_names\n",
    "print(class_names)\n",
    "\n",
    "loss, acc = model.evaluate(numpy_images, numpy_labels, verbose=2)\n",
    "print('Restored model, accuracy: {:5.2f}%'.format(100 * acc))"
   ]
  },
  {
   "cell_type": "code",
   "execution_count": null,
   "id": "e9f59a86-c2b7-4915-a960-75cee9b24e07",
   "metadata": {
    "execution": {
     "iopub.execute_input": "2023-02-28T11:33:54.036402Z",
     "iopub.status.busy": "2023-02-28T11:33:54.035846Z"
    }
   },
   "outputs": [
    {
     "name": "stdout",
     "output_type": "stream",
     "text": [
      "1/1 [==============================] - 0s 143ms/step\n",
      "/notebooks/sample_data/IMG_4151.jpeg: Late_blight with a 88.18 percent confidence.\n",
      "1/1 [==============================] - 0s 63ms/step\n",
      "/notebooks/sample_data/septoria-leaf-spot-tomato-2.jpg: Septoria_leaf_spot with a 63.17 percent confidence.\n",
      "1/1 [==============================] - 0s 90ms/step\n",
      "/notebooks/sample_data/powderymildew1.jpg: Late_blight with a 73.49 percent confidence.\n",
      "1/1 [==============================] - 0s 24ms/step\n",
      "/notebooks/sample_data/bacterialspot1.jpg: Bacterial_spot with a 78.06 percent confidence.\n",
      "1/1 [==============================] - 0s 68ms/step\n",
      "/notebooks/sample_data/IMG_4152.jpeg: healthy with a 62.28 percent confidence.\n",
      "1/1 [==============================] - 0s 23ms/step\n",
      "/notebooks/sample_data/leafmold3.jpg: powdery_mildew with a 80.54 percent confidence.\n",
      "1/1 [==============================] - 0s 68ms/step\n",
      "/notebooks/sample_data/IMG_4198.jpeg: healthy with a 89.10 percent confidence.\n",
      "1/1 [==============================] - 0s 27ms/step\n",
      "/notebooks/sample_data/IMG_4193.jpeg: healthy with a 98.86 percent confidence.\n",
      "1/1 [==============================] - 0s 69ms/step\n",
      "/notebooks/sample_data/IMG_4153.jpeg: healthy with a 99.98 percent confidence.\n",
      "1/1 [==============================] - 0s 72ms/step\n",
      "/notebooks/sample_data/leaf1.webp: healthy with a 96.26 percent confidence.\n",
      "1/1 [==============================] - 0s 25ms/step\n",
      "/notebooks/sample_data/IMG_4191.jpeg: healthy with a 46.88 percent confidence.\n",
      "1/1 [==============================] - 0s 24ms/step\n",
      "/notebooks/sample_data/leaf3.JPG: Early_blight with a 100.00 percent confidence.\n",
      "1/1 [==============================] - 0s 30ms/step\n",
      "/notebooks/sample_data/mosaic1.jpg: Septoria_leaf_spot with a 99.81 percent confidence.\n",
      "1/1 [==============================] - 0s 78ms/step\n",
      "/notebooks/sample_data/healthy1.jpg: Tomato_mosaic_virus with a 83.82 percent confidence.\n",
      "1/1 [==============================] - 0s 74ms/step\n",
      "/notebooks/sample_data/yellowcurl.jpg: Tomato_Yellow_Leaf_Curl_Virus with a 100.00 percent confidence.\n",
      "1/1 [==============================] - 0s 75ms/step\n",
      "/notebooks/sample_data/IMG_4190.jpeg: healthy with a 60.75 percent confidence.\n",
      "1/1 [==============================] - 0s 67ms/step\n",
      "/notebooks/sample_data/leafmold1.jpg: Early_blight with a 95.62 percent confidence.\n",
      "1/1 [==============================] - 0s 72ms/step\n",
      "/notebooks/sample_data/imagescropped.png: Early_blight with a 79.52 percent confidence.\n",
      "1/1 [==============================] - 0s 30ms/step\n",
      "/notebooks/sample_data/leaf-mold-of-tomato-2.jpg: Leaf_Mold with a 52.13 percent confidence.\n",
      "1/1 [==============================] - 0s 34ms/step\n",
      "/notebooks/sample_data/IMG_4189.jpeg: Early_blight with a 79.83 percent confidence.\n",
      "1/1 [==============================] - 0s 25ms/step\n",
      "/notebooks/sample_data/mosaic2.png: Tomato_mosaic_virus with a 99.84 percent confidence.\n",
      "1/1 [==============================] - 0s 68ms/step\n",
      "/notebooks/sample_data/IMG_4150.jpeg: Late_blight with a 51.08 percent confidence.\n",
      "1/1 [==============================] - 0s 25ms/step\n",
      "/notebooks/sample_data/IMG_4154.jpeg: Bacterial_spot with a 50.22 percent confidence.\n",
      "1/1 [==============================] - 0s 76ms/step\n",
      "/notebooks/sample_data/leaf-mold-of-tomato-1.jpg: Late_blight with a 55.59 percent confidence.\n",
      "1/1 [==============================] - 0s 69ms/step\n",
      "/notebooks/sample_data/yellowcurl2.png: powdery_mildew with a 91.34 percent confidence.\n",
      "1/1 [==============================] - 0s 75ms/step\n",
      "/notebooks/sample_data/IMG_4188.jpeg: Septoria_leaf_spot with a 29.33 percent confidence.\n",
      "1/1 [==============================] - 0s 41ms/step\n",
      "/notebooks/sample_data/IMG_4199.jpeg: Leaf_Mold with a 26.44 percent confidence.\n",
      "1/1 [==============================] - 0s 82ms/step\n",
      "/notebooks/sample_data/septoria3.png: Septoria_leaf_spot with a 99.90 percent confidence.\n",
      "1/1 [==============================] - 0s 55ms/step\n",
      "/notebooks/sample_data/septoria1.jpg: Septoria_leaf_spot with a 91.87 percent confidence.\n",
      "1/1 [==============================] - 0s 77ms/step\n",
      "/notebooks/sample_data/septoria2.png: Septoria_leaf_spot with a 63.79 percent confidence.\n",
      "1/1 [==============================] - 0s 51ms/step\n",
      "/notebooks/sample_data/yellowcurl1.png: powdery_mildew with a 80.65 percent confidence.\n",
      "1/1 [==============================] - 0s 57ms/step\n",
      "/notebooks/sample_data/earlyblight.jpg: Early_blight with a 31.04 percent confidence.\n",
      "1/1 [==============================] - 0s 86ms/step\n",
      "/notebooks/sample_data/tomato-early-blight-11.jpg: Early_blight with a 99.91 percent confidence.\n",
      "1/1 [==============================] - 0s 33ms/step\n",
      "/notebooks/sample_data/lateblight pic.jpeg: Late_blight with a 100.00 percent confidence.\n",
      "1/1 [==============================] - 0s 79ms/step\n",
      "/notebooks/sample_data/IMG_4195.jpeg: Septoria_leaf_spot with a 70.83 percent confidence.\n",
      "1/1 [==============================] - 0s 31ms/step\n",
      "/notebooks/sample_data/leaf2.JPG: healthy with a 100.00 percent confidence.\n",
      "1/1 [==============================] - 0s 69ms/step\n"
     ]
    }
   ],
   "source": [
    "leaf_path = pathlib.Path('/notebooks/sample_data/IMG_4153.jpeg')\n",
    "leaf_dir = pathlib.Path('/notebooks/sample_data')\n",
    "for leaf in list(leaf_dir.glob('*')):\n",
    "    img = tf.keras.utils.load_img(\n",
    "        pathlib.Path(leaf), target_size=(img_height, img_width)\n",
    "    )\n",
    "    img_array = tf.keras.utils.img_to_array(img)\n",
    "    img_array = tf.expand_dims(img_array, 0) # Create a batch\n",
    "\n",
    "    predictions = model.predict(img_array)\n",
    "    score = tf.nn.softmax(predictions[0])\n",
    "\n",
    "    print(\n",
    "        \"{}: {} with a {:.2f} percent confidence.\"\n",
    "        .format(leaf, class_names[np.argmax(score)], 100 * np.max(score))\n",
    "    )\n",
    "    \n",
    "\n",
    "# img = tf.keras.utils.load_img(\n",
    "#     leaf_path, target_size=(img_height, img_width)\n",
    "# )\n",
    "# img_array = tf.keras.utils.img_to_array(img)\n",
    "# img_array = tf.expand_dims(img_array, 0) # Create a batch\n",
    "\n",
    "# predictions = model.predict(img_array)\n",
    "# score = tf.nn.softmax(predictions[0])\n",
    "\n",
    "# print(\n",
    "#     \"This image most likely belongs to {} with a {:.2f} percent confidence.\"\n",
    "#     .format(class_names[np.argmax(score)], 100 * np.max(score))\n",
    "# )"
   ]
  }
 ],
 "metadata": {
  "kernelspec": {
   "display_name": "Python 3 (ipykernel)",
   "language": "python",
   "name": "python3"
  },
  "language_info": {
   "codemirror_mode": {
    "name": "ipython",
    "version": 3
   },
   "file_extension": ".py",
   "mimetype": "text/x-python",
   "name": "python",
   "nbconvert_exporter": "python",
   "pygments_lexer": "ipython3",
   "version": "3.9.16"
  }
 },
 "nbformat": 4,
 "nbformat_minor": 5
}
