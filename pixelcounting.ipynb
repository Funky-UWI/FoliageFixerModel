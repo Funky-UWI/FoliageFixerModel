{
 "cells": [
  {
   "cell_type": "code",
   "execution_count": 2,
   "metadata": {},
   "outputs": [
    {
     "name": "stdout",
     "output_type": "stream",
     "text": [
      "background\n",
      "healthy\n",
      "injured\n"
     ]
    }
   ],
   "source": [
    "import os\n",
    "import cv2\n",
    "import numpy as np\n",
    "\n",
    "# Define the path to your dataset\n",
    "dataset_path = \"\"\n",
    "\n",
    "# Define the class labels\n",
    "class_labels = {\n",
    "    0: \"background\",\n",
    "    1: \"healthy\",\n",
    "    2: \"injured\"\n",
    "}\n",
    "\n",
    "# Define the number of classes\n",
    "num_classes = len(class_labels)\n",
    "\n",
    "# Initialize the pixel counts for each class\n",
    "pixel_counts = {class_labels[i]: 0 for i in range(num_classes)}\n",
    "\n",
    "for class_label in class_labels:\n",
    "    class_name = class_labels[class_label]\n",
    "    # class_pixels = np.sum(mask == class_label)\n",
    "    # pixel_counts[class_name] += class_pixels\n",
    "\n",
    "# # Loop over the images in your dataset\n",
    "# for image_name in os.listdir(dataset_path):\n",
    "#     # Load the image and its corresponding ground truth mask\n",
    "#     image_path = os.path.join(dataset_path, image_name)\n",
    "#     image = cv2.imread(image_path, cv2.IMREAD_COLOR)\n",
    "#     mask_path = os.path.join(dataset_path, \"masks\", image_name)\n",
    "#     mask = cv2.imread(mask_path, cv2.IMREAD_GRAYSCALE)\n",
    "    \n",
    "#     # Count the pixels of each class in the mask\n",
    "#     for class_label in class_labels:\n",
    "#         class_name = class_labels[class_label]\n",
    "#         class_pixels = np.sum(mask == class_label)\n",
    "#         pixel_counts[class_name] += class_pixels\n",
    "\n",
    "# # Print the resulting pixel counts for each class\n",
    "# for class_name in pixel_counts:\n",
    "#     print(f\"{class_name}: {pixel_counts[class_name]}\")\n"
   ]
  }
 ],
 "metadata": {
  "kernelspec": {
   "display_name": "project",
   "language": "python",
   "name": "python3"
  },
  "language_info": {
   "codemirror_mode": {
    "name": "ipython",
    "version": 3
   },
   "file_extension": ".py",
   "mimetype": "text/x-python",
   "name": "python",
   "nbconvert_exporter": "python",
   "pygments_lexer": "ipython3",
   "version": "3.10.9"
  },
  "orig_nbformat": 4
 },
 "nbformat": 4,
 "nbformat_minor": 2
}
