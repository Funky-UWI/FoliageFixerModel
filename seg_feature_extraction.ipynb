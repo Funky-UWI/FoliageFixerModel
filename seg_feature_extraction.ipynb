{
 "cells": [
  {
   "cell_type": "code",
   "execution_count": 17,
   "metadata": {},
   "outputs": [
    {
     "name": "stdout",
     "output_type": "stream",
     "text": [
      "Found 18835 files belonging to 10 classes.\n"
     ]
    },
    {
     "name": "stderr",
     "output_type": "stream",
     "text": [
      "2023-03-21 16:25:49.231150: I tensorflow/core/grappler/optimizers/custom_graph_optimizer_registry.cc:113] Plugin optimizer for device_type GPU is enabled.\n"
     ]
    },
    {
     "ename": "ResourceExhaustedError",
     "evalue": "Graph execution error:\n\nDetected at node 'model/up_sampling2d_2/resize/ResizeBilinear' defined at (most recent call last):\n    File \"/opt/homebrew/Caskroom/miniconda/base/envs/project/lib/python3.10/runpy.py\", line 196, in _run_module_as_main\n      return _run_code(code, main_globals, None,\n    File \"/opt/homebrew/Caskroom/miniconda/base/envs/project/lib/python3.10/runpy.py\", line 86, in _run_code\n      exec(code, run_globals)\n    File \"/opt/homebrew/Caskroom/miniconda/base/envs/project/lib/python3.10/site-packages/ipykernel_launcher.py\", line 17, in <module>\n      app.launch_new_instance()\n    File \"/opt/homebrew/Caskroom/miniconda/base/envs/project/lib/python3.10/site-packages/traitlets/config/application.py\", line 992, in launch_instance\n      app.start()\n    File \"/opt/homebrew/Caskroom/miniconda/base/envs/project/lib/python3.10/site-packages/ipykernel/kernelapp.py\", line 711, in start\n      self.io_loop.start()\n    File \"/opt/homebrew/Caskroom/miniconda/base/envs/project/lib/python3.10/site-packages/tornado/platform/asyncio.py\", line 215, in start\n      self.asyncio_loop.run_forever()\n    File \"/opt/homebrew/Caskroom/miniconda/base/envs/project/lib/python3.10/asyncio/base_events.py\", line 603, in run_forever\n      self._run_once()\n    File \"/opt/homebrew/Caskroom/miniconda/base/envs/project/lib/python3.10/asyncio/base_events.py\", line 1906, in _run_once\n      handle._run()\n    File \"/opt/homebrew/Caskroom/miniconda/base/envs/project/lib/python3.10/asyncio/events.py\", line 80, in _run\n      self._context.run(self._callback, *self._args)\n    File \"/opt/homebrew/Caskroom/miniconda/base/envs/project/lib/python3.10/site-packages/ipykernel/kernelbase.py\", line 510, in dispatch_queue\n      await self.process_one()\n    File \"/opt/homebrew/Caskroom/miniconda/base/envs/project/lib/python3.10/site-packages/ipykernel/kernelbase.py\", line 499, in process_one\n      await dispatch(*args)\n    File \"/opt/homebrew/Caskroom/miniconda/base/envs/project/lib/python3.10/site-packages/ipykernel/kernelbase.py\", line 406, in dispatch_shell\n      await result\n    File \"/opt/homebrew/Caskroom/miniconda/base/envs/project/lib/python3.10/site-packages/ipykernel/kernelbase.py\", line 729, in execute_request\n      reply_content = await reply_content\n    File \"/opt/homebrew/Caskroom/miniconda/base/envs/project/lib/python3.10/site-packages/ipykernel/ipkernel.py\", line 411, in do_execute\n      res = shell.run_cell(\n    File \"/opt/homebrew/Caskroom/miniconda/base/envs/project/lib/python3.10/site-packages/ipykernel/zmqshell.py\", line 531, in run_cell\n      return super().run_cell(*args, **kwargs)\n    File \"/opt/homebrew/Caskroom/miniconda/base/envs/project/lib/python3.10/site-packages/IPython/core/interactiveshell.py\", line 2945, in run_cell\n      result = self._run_cell(\n    File \"/opt/homebrew/Caskroom/miniconda/base/envs/project/lib/python3.10/site-packages/IPython/core/interactiveshell.py\", line 3000, in _run_cell\n      return runner(coro)\n    File \"/opt/homebrew/Caskroom/miniconda/base/envs/project/lib/python3.10/site-packages/IPython/core/async_helpers.py\", line 129, in _pseudo_sync_runner\n      coro.send(None)\n    File \"/opt/homebrew/Caskroom/miniconda/base/envs/project/lib/python3.10/site-packages/IPython/core/interactiveshell.py\", line 3203, in run_cell_async\n      has_raised = await self.run_ast_nodes(code_ast.body, cell_name,\n    File \"/opt/homebrew/Caskroom/miniconda/base/envs/project/lib/python3.10/site-packages/IPython/core/interactiveshell.py\", line 3382, in run_ast_nodes\n      if await self.run_code(code, result, async_=asy):\n    File \"/opt/homebrew/Caskroom/miniconda/base/envs/project/lib/python3.10/site-packages/IPython/core/interactiveshell.py\", line 3442, in run_code\n      exec(code_obj, self.user_global_ns, self.user_ns)\n    File \"/var/folders/qf/vw9dzh494wd2yqv7qpcv886h0000gn/T/ipykernel_6621/1175652454.py\", line 48, in <module>\n      segmentation_model.predict(images)\n    File \"/opt/homebrew/Caskroom/miniconda/base/envs/project/lib/python3.10/site-packages/keras/utils/traceback_utils.py\", line 64, in error_handler\n      return fn(*args, **kwargs)\n    File \"/opt/homebrew/Caskroom/miniconda/base/envs/project/lib/python3.10/site-packages/keras/engine/training.py\", line 2033, in predict\n      tmp_batch_outputs = self.predict_function(iterator)\n    File \"/opt/homebrew/Caskroom/miniconda/base/envs/project/lib/python3.10/site-packages/keras/engine/training.py\", line 1845, in predict_function\n      return step_function(self, iterator)\n    File \"/opt/homebrew/Caskroom/miniconda/base/envs/project/lib/python3.10/site-packages/keras/engine/training.py\", line 1834, in step_function\n      outputs = model.distribute_strategy.run(run_step, args=(data,))\n    File \"/opt/homebrew/Caskroom/miniconda/base/envs/project/lib/python3.10/site-packages/keras/engine/training.py\", line 1823, in run_step\n      outputs = model.predict_step(data)\n    File \"/opt/homebrew/Caskroom/miniconda/base/envs/project/lib/python3.10/site-packages/keras/engine/training.py\", line 1791, in predict_step\n      return self(x, training=False)\n    File \"/opt/homebrew/Caskroom/miniconda/base/envs/project/lib/python3.10/site-packages/keras/utils/traceback_utils.py\", line 64, in error_handler\n      return fn(*args, **kwargs)\n    File \"/opt/homebrew/Caskroom/miniconda/base/envs/project/lib/python3.10/site-packages/keras/engine/training.py\", line 490, in __call__\n      return super().__call__(*args, **kwargs)\n    File \"/opt/homebrew/Caskroom/miniconda/base/envs/project/lib/python3.10/site-packages/keras/utils/traceback_utils.py\", line 64, in error_handler\n      return fn(*args, **kwargs)\n    File \"/opt/homebrew/Caskroom/miniconda/base/envs/project/lib/python3.10/site-packages/keras/engine/base_layer.py\", line 1014, in __call__\n      outputs = call_fn(inputs, *args, **kwargs)\n    File \"/opt/homebrew/Caskroom/miniconda/base/envs/project/lib/python3.10/site-packages/keras/utils/traceback_utils.py\", line 92, in error_handler\n      return fn(*args, **kwargs)\n    File \"/opt/homebrew/Caskroom/miniconda/base/envs/project/lib/python3.10/site-packages/keras/engine/functional.py\", line 458, in call\n      return self._run_internal_graph(\n    File \"/opt/homebrew/Caskroom/miniconda/base/envs/project/lib/python3.10/site-packages/keras/engine/functional.py\", line 596, in _run_internal_graph\n      outputs = node.layer(*args, **kwargs)\n    File \"/opt/homebrew/Caskroom/miniconda/base/envs/project/lib/python3.10/site-packages/keras/utils/traceback_utils.py\", line 64, in error_handler\n      return fn(*args, **kwargs)\n    File \"/opt/homebrew/Caskroom/miniconda/base/envs/project/lib/python3.10/site-packages/keras/engine/base_layer.py\", line 1014, in __call__\n      outputs = call_fn(inputs, *args, **kwargs)\n    File \"/opt/homebrew/Caskroom/miniconda/base/envs/project/lib/python3.10/site-packages/keras/utils/traceback_utils.py\", line 92, in error_handler\n      return fn(*args, **kwargs)\n    File \"/opt/homebrew/Caskroom/miniconda/base/envs/project/lib/python3.10/site-packages/keras/layers/reshaping/up_sampling2d.py\", line 129, in call\n      return backend.resize_images(\n    File \"/opt/homebrew/Caskroom/miniconda/base/envs/project/lib/python3.10/site-packages/keras/backend.py\", line 3432, in resize_images\n      x = tf.image.resize(x, new_shape, method=interpolations[interpolation])\nNode: 'model/up_sampling2d_2/resize/ResizeBilinear'\nOOM when allocating tensor with shape[32,512,512,256] and type float on /job:localhost/replica:0/task:0/device:GPU:0 by allocator Simple allocator\n\t [[{{node model/up_sampling2d_2/resize/ResizeBilinear}}]]\nHint: If you want to see a list of allocated tensors when OOM happens, add report_tensor_allocations_upon_oom to RunOptions for current allocation info. This isn't available when running in Eager mode.\n [Op:__inference_predict_function_500116]",
     "output_type": "error",
     "traceback": [
      "\u001b[0;31m---------------------------------------------------------------------------\u001b[0m",
      "\u001b[0;31mResourceExhaustedError\u001b[0m                    Traceback (most recent call last)",
      "Cell \u001b[0;32mIn[17], line 48\u001b[0m\n\u001b[1;32m     46\u001b[0m segmented_training_dataset \u001b[39m=\u001b[39m []\n\u001b[1;32m     47\u001b[0m \u001b[39mfor\u001b[39;00m images, labels \u001b[39min\u001b[39;00m training_dataset:\n\u001b[0;32m---> 48\u001b[0m      segmentation_model\u001b[39m.\u001b[39;49mpredict(images)\n\u001b[1;32m     49\u001b[0m     \u001b[39m# for index in range(len(images)):\u001b[39;00m\n\u001b[1;32m     50\u001b[0m     \u001b[39m#     image = images[index]\u001b[39;00m\n\u001b[1;32m     51\u001b[0m     \u001b[39m#     label = labels[index]\u001b[39;00m\n\u001b[0;32m   (...)\u001b[0m\n\u001b[1;32m     55\u001b[0m \n\u001b[1;32m     56\u001b[0m \u001b[39m# Remove all pixels labeled as class 0 and 1 from the segmented output\u001b[39;00m\n\u001b[1;32m     57\u001b[0m segmented_training_dataset \u001b[39m=\u001b[39m tf\u001b[39m.\u001b[39mconvert_to_tensor(segmented_training_dataset)\n",
      "File \u001b[0;32m/opt/homebrew/Caskroom/miniconda/base/envs/project/lib/python3.10/site-packages/keras/utils/traceback_utils.py:67\u001b[0m, in \u001b[0;36mfilter_traceback.<locals>.error_handler\u001b[0;34m(*args, **kwargs)\u001b[0m\n\u001b[1;32m     65\u001b[0m \u001b[39mexcept\u001b[39;00m \u001b[39mException\u001b[39;00m \u001b[39mas\u001b[39;00m e:  \u001b[39m# pylint: disable=broad-except\u001b[39;00m\n\u001b[1;32m     66\u001b[0m   filtered_tb \u001b[39m=\u001b[39m _process_traceback_frames(e\u001b[39m.\u001b[39m__traceback__)\n\u001b[0;32m---> 67\u001b[0m   \u001b[39mraise\u001b[39;00m e\u001b[39m.\u001b[39mwith_traceback(filtered_tb) \u001b[39mfrom\u001b[39;00m \u001b[39mNone\u001b[39m\n\u001b[1;32m     68\u001b[0m \u001b[39mfinally\u001b[39;00m:\n\u001b[1;32m     69\u001b[0m   \u001b[39mdel\u001b[39;00m filtered_tb\n",
      "File \u001b[0;32m/opt/homebrew/Caskroom/miniconda/base/envs/project/lib/python3.10/site-packages/tensorflow/python/eager/execute.py:54\u001b[0m, in \u001b[0;36mquick_execute\u001b[0;34m(op_name, num_outputs, inputs, attrs, ctx, name)\u001b[0m\n\u001b[1;32m     52\u001b[0m \u001b[39mtry\u001b[39;00m:\n\u001b[1;32m     53\u001b[0m   ctx\u001b[39m.\u001b[39mensure_initialized()\n\u001b[0;32m---> 54\u001b[0m   tensors \u001b[39m=\u001b[39m pywrap_tfe\u001b[39m.\u001b[39mTFE_Py_Execute(ctx\u001b[39m.\u001b[39m_handle, device_name, op_name,\n\u001b[1;32m     55\u001b[0m                                       inputs, attrs, num_outputs)\n\u001b[1;32m     56\u001b[0m \u001b[39mexcept\u001b[39;00m core\u001b[39m.\u001b[39m_NotOkStatusException \u001b[39mas\u001b[39;00m e:\n\u001b[1;32m     57\u001b[0m   \u001b[39mif\u001b[39;00m name \u001b[39mis\u001b[39;00m \u001b[39mnot\u001b[39;00m \u001b[39mNone\u001b[39;00m:\n",
      "\u001b[0;31mResourceExhaustedError\u001b[0m: Graph execution error:\n\nDetected at node 'model/up_sampling2d_2/resize/ResizeBilinear' defined at (most recent call last):\n    File \"/opt/homebrew/Caskroom/miniconda/base/envs/project/lib/python3.10/runpy.py\", line 196, in _run_module_as_main\n      return _run_code(code, main_globals, None,\n    File \"/opt/homebrew/Caskroom/miniconda/base/envs/project/lib/python3.10/runpy.py\", line 86, in _run_code\n      exec(code, run_globals)\n    File \"/opt/homebrew/Caskroom/miniconda/base/envs/project/lib/python3.10/site-packages/ipykernel_launcher.py\", line 17, in <module>\n      app.launch_new_instance()\n    File \"/opt/homebrew/Caskroom/miniconda/base/envs/project/lib/python3.10/site-packages/traitlets/config/application.py\", line 992, in launch_instance\n      app.start()\n    File \"/opt/homebrew/Caskroom/miniconda/base/envs/project/lib/python3.10/site-packages/ipykernel/kernelapp.py\", line 711, in start\n      self.io_loop.start()\n    File \"/opt/homebrew/Caskroom/miniconda/base/envs/project/lib/python3.10/site-packages/tornado/platform/asyncio.py\", line 215, in start\n      self.asyncio_loop.run_forever()\n    File \"/opt/homebrew/Caskroom/miniconda/base/envs/project/lib/python3.10/asyncio/base_events.py\", line 603, in run_forever\n      self._run_once()\n    File \"/opt/homebrew/Caskroom/miniconda/base/envs/project/lib/python3.10/asyncio/base_events.py\", line 1906, in _run_once\n      handle._run()\n    File \"/opt/homebrew/Caskroom/miniconda/base/envs/project/lib/python3.10/asyncio/events.py\", line 80, in _run\n      self._context.run(self._callback, *self._args)\n    File \"/opt/homebrew/Caskroom/miniconda/base/envs/project/lib/python3.10/site-packages/ipykernel/kernelbase.py\", line 510, in dispatch_queue\n      await self.process_one()\n    File \"/opt/homebrew/Caskroom/miniconda/base/envs/project/lib/python3.10/site-packages/ipykernel/kernelbase.py\", line 499, in process_one\n      await dispatch(*args)\n    File \"/opt/homebrew/Caskroom/miniconda/base/envs/project/lib/python3.10/site-packages/ipykernel/kernelbase.py\", line 406, in dispatch_shell\n      await result\n    File \"/opt/homebrew/Caskroom/miniconda/base/envs/project/lib/python3.10/site-packages/ipykernel/kernelbase.py\", line 729, in execute_request\n      reply_content = await reply_content\n    File \"/opt/homebrew/Caskroom/miniconda/base/envs/project/lib/python3.10/site-packages/ipykernel/ipkernel.py\", line 411, in do_execute\n      res = shell.run_cell(\n    File \"/opt/homebrew/Caskroom/miniconda/base/envs/project/lib/python3.10/site-packages/ipykernel/zmqshell.py\", line 531, in run_cell\n      return super().run_cell(*args, **kwargs)\n    File \"/opt/homebrew/Caskroom/miniconda/base/envs/project/lib/python3.10/site-packages/IPython/core/interactiveshell.py\", line 2945, in run_cell\n      result = self._run_cell(\n    File \"/opt/homebrew/Caskroom/miniconda/base/envs/project/lib/python3.10/site-packages/IPython/core/interactiveshell.py\", line 3000, in _run_cell\n      return runner(coro)\n    File \"/opt/homebrew/Caskroom/miniconda/base/envs/project/lib/python3.10/site-packages/IPython/core/async_helpers.py\", line 129, in _pseudo_sync_runner\n      coro.send(None)\n    File \"/opt/homebrew/Caskroom/miniconda/base/envs/project/lib/python3.10/site-packages/IPython/core/interactiveshell.py\", line 3203, in run_cell_async\n      has_raised = await self.run_ast_nodes(code_ast.body, cell_name,\n    File \"/opt/homebrew/Caskroom/miniconda/base/envs/project/lib/python3.10/site-packages/IPython/core/interactiveshell.py\", line 3382, in run_ast_nodes\n      if await self.run_code(code, result, async_=asy):\n    File \"/opt/homebrew/Caskroom/miniconda/base/envs/project/lib/python3.10/site-packages/IPython/core/interactiveshell.py\", line 3442, in run_code\n      exec(code_obj, self.user_global_ns, self.user_ns)\n    File \"/var/folders/qf/vw9dzh494wd2yqv7qpcv886h0000gn/T/ipykernel_6621/1175652454.py\", line 48, in <module>\n      segmentation_model.predict(images)\n    File \"/opt/homebrew/Caskroom/miniconda/base/envs/project/lib/python3.10/site-packages/keras/utils/traceback_utils.py\", line 64, in error_handler\n      return fn(*args, **kwargs)\n    File \"/opt/homebrew/Caskroom/miniconda/base/envs/project/lib/python3.10/site-packages/keras/engine/training.py\", line 2033, in predict\n      tmp_batch_outputs = self.predict_function(iterator)\n    File \"/opt/homebrew/Caskroom/miniconda/base/envs/project/lib/python3.10/site-packages/keras/engine/training.py\", line 1845, in predict_function\n      return step_function(self, iterator)\n    File \"/opt/homebrew/Caskroom/miniconda/base/envs/project/lib/python3.10/site-packages/keras/engine/training.py\", line 1834, in step_function\n      outputs = model.distribute_strategy.run(run_step, args=(data,))\n    File \"/opt/homebrew/Caskroom/miniconda/base/envs/project/lib/python3.10/site-packages/keras/engine/training.py\", line 1823, in run_step\n      outputs = model.predict_step(data)\n    File \"/opt/homebrew/Caskroom/miniconda/base/envs/project/lib/python3.10/site-packages/keras/engine/training.py\", line 1791, in predict_step\n      return self(x, training=False)\n    File \"/opt/homebrew/Caskroom/miniconda/base/envs/project/lib/python3.10/site-packages/keras/utils/traceback_utils.py\", line 64, in error_handler\n      return fn(*args, **kwargs)\n    File \"/opt/homebrew/Caskroom/miniconda/base/envs/project/lib/python3.10/site-packages/keras/engine/training.py\", line 490, in __call__\n      return super().__call__(*args, **kwargs)\n    File \"/opt/homebrew/Caskroom/miniconda/base/envs/project/lib/python3.10/site-packages/keras/utils/traceback_utils.py\", line 64, in error_handler\n      return fn(*args, **kwargs)\n    File \"/opt/homebrew/Caskroom/miniconda/base/envs/project/lib/python3.10/site-packages/keras/engine/base_layer.py\", line 1014, in __call__\n      outputs = call_fn(inputs, *args, **kwargs)\n    File \"/opt/homebrew/Caskroom/miniconda/base/envs/project/lib/python3.10/site-packages/keras/utils/traceback_utils.py\", line 92, in error_handler\n      return fn(*args, **kwargs)\n    File \"/opt/homebrew/Caskroom/miniconda/base/envs/project/lib/python3.10/site-packages/keras/engine/functional.py\", line 458, in call\n      return self._run_internal_graph(\n    File \"/opt/homebrew/Caskroom/miniconda/base/envs/project/lib/python3.10/site-packages/keras/engine/functional.py\", line 596, in _run_internal_graph\n      outputs = node.layer(*args, **kwargs)\n    File \"/opt/homebrew/Caskroom/miniconda/base/envs/project/lib/python3.10/site-packages/keras/utils/traceback_utils.py\", line 64, in error_handler\n      return fn(*args, **kwargs)\n    File \"/opt/homebrew/Caskroom/miniconda/base/envs/project/lib/python3.10/site-packages/keras/engine/base_layer.py\", line 1014, in __call__\n      outputs = call_fn(inputs, *args, **kwargs)\n    File \"/opt/homebrew/Caskroom/miniconda/base/envs/project/lib/python3.10/site-packages/keras/utils/traceback_utils.py\", line 92, in error_handler\n      return fn(*args, **kwargs)\n    File \"/opt/homebrew/Caskroom/miniconda/base/envs/project/lib/python3.10/site-packages/keras/layers/reshaping/up_sampling2d.py\", line 129, in call\n      return backend.resize_images(\n    File \"/opt/homebrew/Caskroom/miniconda/base/envs/project/lib/python3.10/site-packages/keras/backend.py\", line 3432, in resize_images\n      x = tf.image.resize(x, new_shape, method=interpolations[interpolation])\nNode: 'model/up_sampling2d_2/resize/ResizeBilinear'\nOOM when allocating tensor with shape[32,512,512,256] and type float on /job:localhost/replica:0/task:0/device:GPU:0 by allocator Simple allocator\n\t [[{{node model/up_sampling2d_2/resize/ResizeBilinear}}]]\nHint: If you want to see a list of allocated tensors when OOM happens, add report_tensor_allocations_upon_oom to RunOptions for current allocation info. This isn't available when running in Eager mode.\n [Op:__inference_predict_function_500116]"
     ]
    }
   ],
   "source": [
    "import tensorflow as tf\n",
    "import pathlib\n",
    "import cv2\n",
    "\n",
    "# Load your pre-trained segmentation model\n",
    "def weighted_crossentropy(class_weights):\n",
    "      def loss_fn(y_true, y_pred):\n",
    "          # Apply softmax activation to logits\n",
    "          y_pred = tf.nn.softmax(y_pred, axis=-1)\n",
    "\n",
    "          # Flatten both inputs\n",
    "          y_true_f = tf.reshape(y_true, [-1])\n",
    "          y_pred_f = tf.reshape(y_pred, [-1, tf.shape(y_pred)[-1]])\n",
    "\n",
    "          # Calculate weighted cross-entropy loss\n",
    "          loss = tf.nn.sparse_softmax_cross_entropy_with_logits(labels=tf.cast(y_true_f, dtype=tf.int32), logits=y_pred_f)\n",
    "          weighted_loss = tf.reduce_mean(tf.multiply(loss, tf.gather(class_weights, tf.cast(y_true_f, dtype=tf.int32))))\n",
    "\n",
    "          return weighted_loss\n",
    "\n",
    "      return loss_fn\n",
    "\n",
    "segmentation_model = tf.keras.models.load_model('saved_seg_models/model2023-03-18 15_39_47.663348', compile=False)\n",
    "segmentation_model.compile(\n",
    "      optimizer=tf.keras.optimizers.Adam(learning_rate=0.001),\n",
    "      loss=weighted_crossentropy,\n",
    "      metrics=[\"accuracy\"],\n",
    "    )\n",
    "\n",
    "# Freeze the layers of the segmentation model\n",
    "for layer in segmentation_model.layers:\n",
    "    layer.trainable = False\n",
    "\n",
    "# Load your training dataset and pass each image through the segmentation model to obtain its segmented output\n",
    "train_dir = pathlib.Path('plantvillage')\n",
    "batch_size = 32\n",
    "img_height = 512\n",
    "img_width = 512\n",
    "\n",
    "training_dataset = tf.keras.utils.image_dataset_from_directory(\n",
    "  train_dir,\n",
    "  seed=123,\n",
    "  image_size=(img_height, img_width),\n",
    "  batch_size=batch_size)  # load your training dataset\n",
    "\n",
    "segmented_training_dataset = []\n",
    "for images, labels in training_dataset:\n",
    "     segmentation_model.predict(images)\n",
    "    # for index in range(len(images)):\n",
    "    #     image = images[index]\n",
    "    #     label = labels[index]\n",
    "    # #     print(images.shape, label.shape)\n",
    "    #     segmented_image = segmentation_model.predict(image[tf.newaxis, ...])\n",
    "    #     segmented_training_dataset.append((segmented_image, label))\n",
    "\n",
    "# Remove all pixels labeled as class 0 and 1 from the segmented output\n",
    "segmented_training_dataset = tf.convert_to_tensor(segmented_training_dataset)\n",
    "class_mask = tf.math.logical_and(tf.not_equal(segmented_training_dataset, 0), tf.not_equal(segmented_training_dataset, 1))\n",
    "segmented_training_dataset = tf.where(class_mask, segmented_training_dataset, tf.zeros_like(segmented_training_dataset))\n",
    "\n",
    "# Use the segmented output with class 0 and 1 removed as input to the segmentation model to extract features\n",
    "feature_extraction_model = tf.keras.models.Sequential([\n",
    "    segmentation_model.layers[0],  # input layer\n",
    "    segmentation_model.layers[1],  # first convolutional layer\n",
    "    segmentation_model.layers[2],  # second convolutional layer\n",
    "    segmentation_model.layers[3]   # third convolutional layer\n",
    "])\n",
    "\n",
    "# Use the extracted features as input to the image classification model\n",
    "classification_model = tf.keras.models.Sequential([\n",
    "    tf.keras.layers.Flatten(input_shape=(64, 64, 1)),  # flatten the extracted features\n",
    "    tf.keras.layers.Dense(64, activation='relu'),     # fully connected layer\n",
    "    tf.keras.layers.Dense(10, activation='softmax')   # output layer with 10 classes\n",
    "])\n",
    "\n",
    "# Train the classifier on the extracted features using your training dataset\n",
    "classification_model.compile(optimizer='adam', loss='categorical_crossentropy', metrics=['accuracy'])\n",
    "classification_model.fit(segmented_training_dataset, epochs=1)\n",
    "\n",
    "# # Test the performance of the trained image classification model on a test dataset\n",
    "# test_dataset = ...  # load your test dataset\n",
    "# segmented_test_dataset = []\n",
    "# for image in test_dataset:\n",
    "#     segmented_image = segmentation_model.predict(image)\n",
    "#     segmented_test_dataset.append(segmented_image)\n",
    "# segmented_test_dataset = tf.convert_to\n"
   ]
  }
 ],
 "metadata": {
  "kernelspec": {
   "display_name": "project",
   "language": "python",
   "name": "python3"
  },
  "language_info": {
   "codemirror_mode": {
    "name": "ipython",
    "version": 3
   },
   "file_extension": ".py",
   "mimetype": "text/x-python",
   "name": "python",
   "nbconvert_exporter": "python",
   "pygments_lexer": "ipython3",
   "version": "3.10.9"
  },
  "orig_nbformat": 4
 },
 "nbformat": 4,
 "nbformat_minor": 2
}
